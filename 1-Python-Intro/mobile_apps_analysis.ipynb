{
 "cells": [
  {
   "cell_type": "markdown",
   "id": "7564054c",
   "metadata": {},
   "source": [
    "# Profitable App Profiles for the App Store and Google Play Markets\n",
    "\n",
    "**Learning Goals**\n",
    "- Exploring data\n",
    "- Data cleaning\n",
    "\n",
    "**Project Purpose**\n",
    "- Determine kinds of apps that are likely to attract more users\n",
    "- Business goal: create apps that garner the most number of users\n",
    "- Project outcome: find app profiles that are successful in Google and Apple app stores"
   ]
  },
  {
   "cell_type": "markdown",
   "id": "8a59386e",
   "metadata": {},
   "source": [
    "## Exploring Data\n",
    "\n",
    "### Google Apps Dataset Columns\n",
    "  1. **App** - Application Name\n",
    "  2. **Category** - Category the app belongs to\n",
    "  3. **Rating** - Overall user rating of the app\n",
    "  4. **Reviews** - Number of user reviews for the app\n",
    "  5. **Size** - Size of the app\n",
    "  6. **Installs** - Number of user downloads/installs for the app\n",
    "  7. **Type** - Paid or Free\n",
    "  8. **Price** - Price of the app\n",
    "  9. **Content Rating** - Age group the app is targeted at - Children / Mature 21+ / Adult\n",
    "  10. **Genres** - An app can belong to multiple genres (apart from its main category). For eg, a musical family game will belong to Music, Game, Family genres.\n",
    "  11. **Last Updated** - Date when the app was last updated on Play Store\n",
    "  12. **Current Ver** - Current version of the app available on Play Store \n",
    "  13. **Android Ver** - Min required Android version\n",
    "  \n",
    "  \n",
    "  \n",
    "### Apple Apps Dataset Columns\n",
    "  1. **id** - App ID\n",
    "  2. **track_name** - app name\n",
    "  3. **size_bytes**\n",
    "  4. **currency** - Currency type\n",
    "  5. **price**\n",
    "  6. **rating_count_tot** - User Rating counts (for all versions)\n",
    "  7. **rating_count_ver** - User Rating counts (for current version)\n",
    "  8. **user_rating** - Average User Rating value (for all version)\n",
    "  9. **user_rating_ver** - Average User Rating value (for current version)\n",
    "  10. **ver** - Latest version code\n",
    "  11. **cont_rating** - Content/ Age rating\n",
    "  12. **prime_genre** - Primary Genre\n",
    "  13. **sup_devices.num** - Number of supporting devices\n",
    "  14. **ipadSc_urls.num** - Number of screenshots showed for display\n",
    "  15. **lang.num** - Number of supported languages\n",
    "  26. **vpp_lic** - Vpp Device Based Licensing Enabled (0-1)"
   ]
  },
  {
   "cell_type": "code",
   "execution_count": 1,
   "id": "116d83b1",
   "metadata": {},
   "outputs": [],
   "source": [
    "# Extracts data from CSV into double list\n",
    "import csv\n",
    "\n",
    "def extract_data(filename):\n",
    "    \n",
    "    with open(filename, encoding=\"utf8\") as file:\n",
    "        return list(csv.reader(file))\n",
    "    \n",
    "# Displays X number of rows top of dataset and prints number of rows and columns\n",
    "def inspect_data(data, num):\n",
    "    print(\"Number of rows:\", len(data))\n",
    "    print(\"Number of columns:\", len(data[0]))\n",
    "    for d in data[0:num]:\n",
    "        print(d)"
   ]
  },
  {
   "cell_type": "code",
   "execution_count": 2,
   "id": "58f09ff0",
   "metadata": {},
   "outputs": [
    {
     "name": "stdout",
     "output_type": "stream",
     "text": [
      "['App', 'Category', 'Rating', 'Reviews', 'Size', 'Installs', 'Type', 'Price', 'Content Rating', 'Genres', 'Last Updated', 'Current Ver', 'Android Ver']\n",
      "10841\n",
      "Number of rows: 10842\n",
      "Number of columns: 13\n",
      "['App', 'Category', 'Rating', 'Reviews', 'Size', 'Installs', 'Type', 'Price', 'Content Rating', 'Genres', 'Last Updated', 'Current Ver', 'Android Ver']\n",
      "['Photo Editor & Candy Camera & Grid & ScrapBook', 'ART_AND_DESIGN', '4.1', '159', '19M', '10,000+', 'Free', '0', 'Everyone', 'Art & Design', 'January 7, 2018', '1.0.0', '4.0.3 and up']\n",
      "['Coloring book moana', 'ART_AND_DESIGN', '3.9', '967', '14M', '500,000+', 'Free', '0', 'Everyone', 'Art & Design;Pretend Play', 'January 15, 2018', '2.0.0', '4.0.3 and up']\n",
      "['U Launcher Lite – FREE Live Cool Themes, Hide Apps', 'ART_AND_DESIGN', '4.7', '87510', '8.7M', '5,000,000+', 'Free', '0', 'Everyone', 'Art & Design', 'August 1, 2018', '1.2.4', '4.0.3 and up']\n"
     ]
    }
   ],
   "source": [
    "google_dataset = extract_data(\"./data/googleplaystore.csv\")\n",
    "google_header = google_dataset[0]\n",
    "google_apps = google_dataset[1:]\n",
    "\n",
    "print(google_header)\n",
    "print(len(google_apps))\n",
    "inspect_data(google_dataset, 4)"
   ]
  },
  {
   "cell_type": "code",
   "execution_count": 3,
   "id": "ea80cee3",
   "metadata": {},
   "outputs": [
    {
     "name": "stdout",
     "output_type": "stream",
     "text": [
      "['id', 'track_name', 'size_bytes', 'currency', 'price', 'rating_count_tot', 'rating_count_ver', 'user_rating', 'user_rating_ver', 'ver', 'cont_rating', 'prime_genre', 'sup_devices.num', 'ipadSc_urls.num', 'lang.num', 'vpp_lic']\n",
      "7197\n",
      "Number of rows: 7198\n",
      "Number of columns: 16\n",
      "['id', 'track_name', 'size_bytes', 'currency', 'price', 'rating_count_tot', 'rating_count_ver', 'user_rating', 'user_rating_ver', 'ver', 'cont_rating', 'prime_genre', 'sup_devices.num', 'ipadSc_urls.num', 'lang.num', 'vpp_lic']\n",
      "['284882215', 'Facebook', '389879808', 'USD', '0.0', '2974676', '212', '3.5', '3.5', '95.0', '4+', 'Social Networking', '37', '1', '29', '1']\n",
      "['389801252', 'Instagram', '113954816', 'USD', '0.0', '2161558', '1289', '4.5', '4.0', '10.23', '12+', 'Photo & Video', '37', '0', '29', '1']\n",
      "['529479190', 'Clash of Clans', '116476928', 'USD', '0.0', '2130805', '579', '4.5', '4.5', '9.24.12', '9+', 'Games', '38', '5', '18', '1']\n"
     ]
    }
   ],
   "source": [
    "apple_dataset = extract_data(\"./data/AppleStore.csv\")\n",
    "apple_header = apple_dataset[0]\n",
    "apple_apps = apple_dataset[1:]\n",
    "\n",
    "print(apple_header)\n",
    "print(len(apple_apps))\n",
    "inspect_data(apple_dataset,4)"
   ]
  },
  {
   "cell_type": "markdown",
   "id": "ac874059",
   "metadata": {},
   "source": [
    "## Data Cleaning\n",
    "\n",
    "### Deleting Inaccurate data"
   ]
  },
  {
   "cell_type": "code",
   "execution_count": 4,
   "id": "ec2fbad1",
   "metadata": {},
   "outputs": [
    {
     "name": "stdout",
     "output_type": "stream",
     "text": [
      "12\n",
      "13\n"
     ]
    }
   ],
   "source": [
    "# Removing wrong rating for entry 10472\n",
    "# - see https://www.kaggle.com/datasets/lava18/google-play-store-apps/discussion/66015\n",
    "\n",
    "# Verifying data is incorrect/ incomplete\n",
    "print(len(google_apps[10472])) # Has only 12 columns\n",
    "print(len(google_header))      # Each row should have 13 columns"
   ]
  },
  {
   "cell_type": "code",
   "execution_count": 5,
   "id": "5f5c501d",
   "metadata": {},
   "outputs": [
    {
     "name": "stdout",
     "output_type": "stream",
     "text": [
      "10841\n",
      "10840\n"
     ]
    }
   ],
   "source": [
    "# Deleting the data\n",
    "print(len(google_apps))\n",
    "del google_apps[10472]\n",
    "print(len(google_apps))"
   ]
  },
  {
   "cell_type": "markdown",
   "id": "290bae67",
   "metadata": {},
   "source": [
    "### Removing Duplicates"
   ]
  },
  {
   "cell_type": "code",
   "execution_count": 6,
   "id": "912377b1",
   "metadata": {},
   "outputs": [],
   "source": [
    "# Counts number of duplicates\n",
    "# - Duplicate Condition = Same App name\n",
    "def count_duplicates(data, name_index):\n",
    "    duplicates = []\n",
    "    uniques = []\n",
    "    \n",
    "    for d in data:\n",
    "        name = d[name_index]\n",
    "        if name in uniques:\n",
    "            duplicates.append(name)\n",
    "        else:\n",
    "            uniques.append(name)\n",
    "            \n",
    "    return len(duplicates)"
   ]
  },
  {
   "cell_type": "code",
   "execution_count": 7,
   "id": "a25d8c44",
   "metadata": {},
   "outputs": [
    {
     "name": "stdout",
     "output_type": "stream",
     "text": [
      "1181\n",
      "2\n"
     ]
    }
   ],
   "source": [
    "google_duplicates_count = count_duplicates(google_apps, 0)\n",
    "apple_duplicates_count = count_duplicates(apple_apps, 1)\n",
    "\n",
    "print(google_duplicates_count) # 1181\n",
    "print(apple_duplicates_count)  # 2"
   ]
  },
  {
   "cell_type": "code",
   "execution_count": 8,
   "id": "f7004de0",
   "metadata": {},
   "outputs": [],
   "source": [
    "# Inspecting Duplicates\n",
    "\n",
    "# Extracts duplicates \n",
    "def extract_duplicates(data, name_index):\n",
    "    uniques = set()\n",
    "    duplicates_raw = {}\n",
    "    \n",
    "    for d in data:\n",
    "        name = d[name_index]\n",
    "        if name not in uniques:\n",
    "            uniques.add(name)\n",
    "            duplicates_raw[name] = []\n",
    "        \n",
    "        duplicates_raw[name].append(d)\n",
    "            \n",
    "    duplicates = {}\n",
    "    \n",
    "    for k,v in duplicates_raw.items():\n",
    "        if len(v) > 1:\n",
    "            duplicates[k] = v\n",
    "            \n",
    "    return duplicates"
   ]
  },
  {
   "cell_type": "code",
   "execution_count": 9,
   "id": "53933e30",
   "metadata": {},
   "outputs": [],
   "source": [
    "google_duplicates = extract_duplicates(google_apps, 0)"
   ]
  },
  {
   "cell_type": "code",
   "execution_count": 10,
   "id": "70325848",
   "metadata": {},
   "outputs": [
    {
     "name": "stdout",
     "output_type": "stream",
     "text": [
      "['Instagram', 'SOCIAL', '4.5', '66577313', 'Varies with device', '1,000,000,000+', 'Free', '0', 'Teen', 'Social', 'July 31, 2018', 'Varies with device', 'Varies with device']\n",
      "\n",
      "['Instagram', 'SOCIAL', '4.5', '66577446', 'Varies with device', '1,000,000,000+', 'Free', '0', 'Teen', 'Social', 'July 31, 2018', 'Varies with device', 'Varies with device']\n",
      "\n",
      "['Instagram', 'SOCIAL', '4.5', '66577313', 'Varies with device', '1,000,000,000+', 'Free', '0', 'Teen', 'Social', 'July 31, 2018', 'Varies with device', 'Varies with device']\n",
      "\n",
      "['Instagram', 'SOCIAL', '4.5', '66509917', 'Varies with device', '1,000,000,000+', 'Free', '0', 'Teen', 'Social', 'July 31, 2018', 'Varies with device', 'Varies with device']\n",
      "\n"
     ]
    }
   ],
   "source": [
    "# Determine which duplicate to keep\n",
    "#  - Inspect duplicates\n",
    "\n",
    "instagram_duplicate = google_duplicates[\"Instagram\"]\n",
    "# Here we see that only the 4th column is different, which is the number of reviews\n",
    "# The different numbers show data was collected at different times\n",
    "# We can keep the data with the highest number of reviews, and remove the rest\n",
    "for i in instagram_duplicate:\n",
    "    print(i)\n",
    "    print()"
   ]
  },
  {
   "cell_type": "code",
   "execution_count": 11,
   "id": "64279a46",
   "metadata": {},
   "outputs": [
    {
     "name": "stdout",
     "output_type": "stream",
     "text": [
      "{'Mannequin Challenge': [['1173990889', 'Mannequin Challenge', '109705216', 'USD', '0.0', '668', '87', '3.0', '3.0', '1.4', '9+', 'Games', '37', '4', '1', '1'], ['1178454060', 'Mannequin Challenge', '59572224', 'USD', '0.0', '105', '58', '4.0', '4.5', '1.0.1', '4+', 'Games', '38', '5', '1', '1']], 'VR Roller Coaster': [['952877179', 'VR Roller Coaster', '169523200', 'USD', '0.0', '107', '102', '3.5', '3.5', '2.0.0', '4+', 'Games', '37', '5', '1', '1'], ['1089824278', 'VR Roller Coaster', '240964608', 'USD', '0.0', '67', '44', '3.5', '4.0', '0.81', '4+', 'Games', '38', '0', '1', '1']]}\n"
     ]
    }
   ],
   "source": [
    "# Apple duplicates\n",
    "apple_duplicates = extract_duplicates(apple_apps, 1)\n",
    "print(apple_duplicates)\n",
    "    \n",
    "# Apple shows 4 apps with duplicate names;\n",
    "#   However, these are not duplicates as they have their own unique Apple ID"
   ]
  },
  {
   "cell_type": "code",
   "execution_count": 12,
   "id": "cc729f3c",
   "metadata": {},
   "outputs": [
    {
     "name": "stdout",
     "output_type": "stream",
     "text": [
      "['Coloring book moana', 'ART_AND_DESIGN', '3.9', '967']\n",
      "['Coloring book moana', 'FAMILY', '3.9', '974']\n",
      "['Mcqueen Coloring pages', 'ART_AND_DESIGN', 'NaN', '61']\n",
      "['Mcqueen Coloring pages', 'FAMILY', 'NaN', '65']\n",
      "['UNICORN - Color By Number & Pixel Art Coloring', 'ART_AND_DESIGN', '4.7', '8145']\n",
      "['UNICORN - Color By Number & Pixel Art Coloring', 'FAMILY', '4.7', '8264']\n",
      "['Textgram - write on photos', 'ART_AND_DESIGN', '4.4', '295221']\n",
      "['Textgram - write on photos', 'ART_AND_DESIGN', '4.4', '295237']\n",
      "['Wattpad 📖 Free Books', 'BOOKS_AND_REFERENCE', '4.6', '2914724']\n",
      "['Wattpad 📖 Free Books', 'BOOKS_AND_REFERENCE', '4.6', '2915189']\n",
      "['Coloring book moana', 'ART_AND_DESIGN', '3.9', '967']\n",
      "['Coloring book lilly', 'ART_AND_DESIGN', '3.9', '967']\n",
      "['Textgram - write on photos', 'ART_AND_DESIGN', '4.4', '295237']\n",
      "['Wattpad 📖 Free Books', 'BOOKS_AND_REFERENCE', '4.6', '2915189']\n",
      "['Mattpad 📖 Free Books', 'BOOKS_AND_REFERENCE', '4.6', '2915189']\n",
      "13\n",
      "8\n"
     ]
    }
   ],
   "source": [
    "# TEMP code\n",
    "\n",
    "temp_data = []\n",
    "for d in list(google_duplicates.values())[0:5]:\n",
    "    for d2 in d:\n",
    "        temp_data.append(d2[0:4])\n",
    "\n",
    "temp_data.append(['Coloring book moana', 'ART_AND_DESIGN', '3.9', '967'])\n",
    "temp_data.append(['Coloring book lilly', 'ART_AND_DESIGN', '3.9', '967'])\n",
    "temp_data.append(['Textgram - write on photos', 'ART_AND_DESIGN', '4.4', '295237'])\n",
    "temp_data.append(['Wattpad 📖 Free Books', 'BOOKS_AND_REFERENCE', '4.6', '2915189'])\n",
    "temp_data.append(['Mattpad 📖 Free Books', 'BOOKS_AND_REFERENCE', '4.6', '2915189'])\n",
    "        \n",
    "for d in temp_data:\n",
    "    print(d)\n",
    "\n",
    "def count_duplicates_1(data):\n",
    "    count = {}\n",
    "    \n",
    "    for d in data:\n",
    "        name = d[0]\n",
    "        if name in count:\n",
    "            count[name] += 1\n",
    "        else:\n",
    "            count[name] = 1\n",
    "            \n",
    "    dups = {}\n",
    "    \n",
    "    # Extract duplicates \n",
    "    for key,value in count.items():\n",
    "        if value > 1:\n",
    "            dups[key] = value\n",
    "            \n",
    "    return dups\n",
    "\n",
    "def count_duplicates_2(data):\n",
    "    duplicates = []\n",
    "    uniques = []\n",
    "    \n",
    "    for d in data:\n",
    "        name = d[0]\n",
    "        if name in uniques:\n",
    "            duplicates.append(name)\n",
    "        else:\n",
    "            uniques.append(name)\n",
    "            \n",
    "    return len(duplicates)\n",
    "\n",
    "\n",
    "\n",
    "count_1 = count_duplicates_1(temp_data)\n",
    "print(sum(count_1.values()))\n",
    "\n",
    "count_2 = count_duplicates_2(temp_data)\n",
    "print(count_2)"
   ]
  },
  {
   "cell_type": "code",
   "execution_count": 13,
   "id": "24b3c45f",
   "metadata": {},
   "outputs": [
    {
     "name": "stdout",
     "output_type": "stream",
     "text": [
      "9659\n"
     ]
    }
   ],
   "source": [
    "# Remove duplicates\n",
    "# - We will be removing duplicates from the Google app dataset\n",
    "# - Once removed, should be left with 9659 rows\n",
    "\n",
    "# include only apps with highest reviews, if duplicate, along with all the other apps\n",
    "reviews_max = {}\n",
    "for app in google_apps:\n",
    "    name = app[0]\n",
    "    reviews = float(app[3])\n",
    "    if name in reviews_max:\n",
    "        if reviews_max[name] < reviews:\n",
    "            reviews_max[name] = reviews\n",
    "    else:\n",
    "        reviews_max[name] = reviews\n",
    "        \n",
    "print(len(reviews_max)) # should be 9659 rows"
   ]
  },
  {
   "cell_type": "code",
   "execution_count": 14,
   "id": "119dbb9f",
   "metadata": {},
   "outputs": [
    {
     "name": "stdout",
     "output_type": "stream",
     "text": [
      "9659\n"
     ]
    }
   ],
   "source": [
    "temp_google_apps = []\n",
    "temp_google_already_added = [] # need this because there are duplicates with same number of reviews\n",
    "\n",
    "for app in google_apps:\n",
    "    name = app[0]\n",
    "    reviews = float(app[3])\n",
    "    if reviews_max[name] == reviews and name not in temp_google_already_added:\n",
    "        temp_google_apps.append(app)\n",
    "        temp_google_already_added.append(name)\n",
    "        \n",
    "print(len(temp_google_apps)) # 9659"
   ]
  },
  {
   "cell_type": "code",
   "execution_count": 15,
   "id": "44c2f8c9",
   "metadata": {},
   "outputs": [
    {
     "data": {
      "text/plain": [
       "9659"
      ]
     },
     "execution_count": 15,
     "metadata": {},
     "output_type": "execute_result"
    }
   ],
   "source": [
    "# replace google_apps with temp_google_apps\n",
    "google_apps = temp_google_apps\n",
    "len(google_apps)"
   ]
  },
  {
   "cell_type": "markdown",
   "id": "0a5d9330",
   "metadata": {},
   "source": [
    "### Removing Non-English Apps\n",
    "\n",
    "- Non-english characters have unicode value greater than 127\n",
    "  - We can use this fact to remove apps with names containing characters that are greater than 127 in unicode value"
   ]
  },
  {
   "cell_type": "code",
   "execution_count": 16,
   "id": "ca49f160",
   "metadata": {},
   "outputs": [
    {
     "name": "stdout",
     "output_type": "stream",
     "text": [
      "True\n",
      "False\n",
      "True\n",
      "True\n"
     ]
    }
   ],
   "source": [
    "# Return false if there's more than three characters in the string that doesn't belong to the set of common English chracters, True otherwise\n",
    "def is_english(word):\n",
    "    count = 0\n",
    "    for letter in word:\n",
    "        if ord(letter) > 127:\n",
    "            count += 1\n",
    "        \n",
    "    if count > 3:\n",
    "            return False\n",
    "\n",
    "    return True\n",
    "\n",
    "print(is_english('Instagram'))\n",
    "print(is_english('爱奇艺PPS -《欢乐颂2》电视剧热播'))\n",
    "print(is_english('Docs To Go™ Free Office Suite'))\n",
    "print(is_english('Instachat 😜'))"
   ]
  },
  {
   "cell_type": "code",
   "execution_count": 17,
   "id": "20cc984d",
   "metadata": {},
   "outputs": [],
   "source": [
    "# Use previous function to remove non-english apps from datasets"
   ]
  },
  {
   "cell_type": "code",
   "execution_count": 18,
   "id": "ca59f42b",
   "metadata": {},
   "outputs": [
    {
     "name": "stdout",
     "output_type": "stream",
     "text": [
      "Number of rows: 9614\n",
      "Number of columns: 13\n",
      "['Photo Editor & Candy Camera & Grid & ScrapBook', 'ART_AND_DESIGN', '4.1', '159', '19M', '10,000+', 'Free', '0', 'Everyone', 'Art & Design', 'January 7, 2018', '1.0.0', '4.0.3 and up']\n",
      "['U Launcher Lite – FREE Live Cool Themes, Hide Apps', 'ART_AND_DESIGN', '4.7', '87510', '8.7M', '5,000,000+', 'Free', '0', 'Everyone', 'Art & Design', 'August 1, 2018', '1.2.4', '4.0.3 and up']\n",
      "['Sketch - Draw & Paint', 'ART_AND_DESIGN', '4.5', '215644', '25M', '50,000,000+', 'Free', '0', 'Teen', 'Art & Design', 'June 8, 2018', 'Varies with device', '4.2 and up']\n",
      "\n",
      "Number of rows: 6183\n",
      "Number of columns: 16\n",
      "['284882215', 'Facebook', '389879808', 'USD', '0.0', '2974676', '212', '3.5', '3.5', '95.0', '4+', 'Social Networking', '37', '1', '29', '1']\n",
      "['389801252', 'Instagram', '113954816', 'USD', '0.0', '2161558', '1289', '4.5', '4.0', '10.23', '12+', 'Photo & Video', '37', '0', '29', '1']\n",
      "['529479190', 'Clash of Clans', '116476928', 'USD', '0.0', '2130805', '579', '4.5', '4.5', '9.24.12', '9+', 'Games', '38', '5', '18', '1']\n"
     ]
    }
   ],
   "source": [
    "temp_google_apps = []\n",
    "for app in google_apps:\n",
    "    name = app[0]\n",
    "    if is_english(name):\n",
    "        temp_google_apps.append(app)\n",
    "        \n",
    "google_apps = temp_google_apps\n",
    "\n",
    "temp_apple_apps = []\n",
    "for app in apple_apps:\n",
    "    name = app[1]\n",
    "    if is_english(name):\n",
    "        temp_apple_apps.append(app)\n",
    "        \n",
    "apple_apps = temp_apple_apps\n",
    "\n",
    "inspect_data(google_apps, 3)\n",
    "print()\n",
    "inspect_data(apple_apps, 3)"
   ]
  },
  {
   "cell_type": "markdown",
   "id": "3a50b220",
   "metadata": {},
   "source": [
    "### Isolating Free Apps\n",
    "- Since this project's goal is to build apps that are free to download, only free apps is needed from the dataset for analysis"
   ]
  },
  {
   "cell_type": "code",
   "execution_count": 19,
   "id": "7a7c8f65",
   "metadata": {},
   "outputs": [
    {
     "name": "stdout",
     "output_type": "stream",
     "text": [
      "Number of rows: 8864\n",
      "Number of columns: 13\n",
      "['Photo Editor & Candy Camera & Grid & ScrapBook', 'ART_AND_DESIGN', '4.1', '159', '19M', '10,000+', 'Free', '0', 'Everyone', 'Art & Design', 'January 7, 2018', '1.0.0', '4.0.3 and up']\n",
      "['U Launcher Lite – FREE Live Cool Themes, Hide Apps', 'ART_AND_DESIGN', '4.7', '87510', '8.7M', '5,000,000+', 'Free', '0', 'Everyone', 'Art & Design', 'August 1, 2018', '1.2.4', '4.0.3 and up']\n",
      "['Sketch - Draw & Paint', 'ART_AND_DESIGN', '4.5', '215644', '25M', '50,000,000+', 'Free', '0', 'Teen', 'Art & Design', 'June 8, 2018', 'Varies with device', '4.2 and up']\n",
      "\n",
      "Number of rows: 3222\n",
      "Number of columns: 16\n",
      "['284882215', 'Facebook', '389879808', 'USD', '0.0', '2974676', '212', '3.5', '3.5', '95.0', '4+', 'Social Networking', '37', '1', '29', '1']\n",
      "['389801252', 'Instagram', '113954816', 'USD', '0.0', '2161558', '1289', '4.5', '4.0', '10.23', '12+', 'Photo & Video', '37', '0', '29', '1']\n",
      "['529479190', 'Clash of Clans', '116476928', 'USD', '0.0', '2130805', '579', '4.5', '4.5', '9.24.12', '9+', 'Games', '38', '5', '18', '1']\n"
     ]
    }
   ],
   "source": [
    "# Excludes non-free apps from dataset\n",
    "\n",
    "temp_google_apps = []\n",
    "for app in google_apps:\n",
    "    price = app[7]\n",
    "    if price == '0':\n",
    "        temp_google_apps.append(app)\n",
    "        \n",
    "google_apps = temp_google_apps\n",
    "\n",
    "temp_apple_apps = []\n",
    "for app in apple_apps:\n",
    "    price = app[4]\n",
    "    if price == '0.0':\n",
    "        temp_apple_apps.append(app)\n",
    "        \n",
    "apple_apps = temp_apple_apps\n",
    "\n",
    "inspect_data(google_apps, 3)\n",
    "print()\n",
    "inspect_data(apple_apps, 3)"
   ]
  },
  {
   "cell_type": "markdown",
   "id": "7a1a54d2",
   "metadata": {},
   "source": [
    "## Analysis\n",
    "\n",
    "### Determine most common genres for each market\n",
    "- Can be determined via frequency tables\n",
    "- The following columns will be used to generate the frequency tables\n",
    "  - `Genre` and `Category` (Google)\n",
    "  - `prime_genre` (Apple)"
   ]
  },
  {
   "cell_type": "code",
   "execution_count": 20,
   "id": "46552a62",
   "metadata": {},
   "outputs": [],
   "source": [
    "# Returns frequency table as a dictionary that displays total occurences as percentage for any column (index) in dataset\n",
    "def freq_table(data, index):\n",
    "    table = {}\n",
    "    total = 0\n",
    "    \n",
    "    for d in data:\n",
    "        total += 1\n",
    "        column = d[index]\n",
    "        if column in table:\n",
    "            table[column] += 1\n",
    "        else:\n",
    "            table[column] = 1\n",
    "        \n",
    "    table_percentages = {}\n",
    "    \n",
    "    for k,v in table.items():\n",
    "        table_percentages[k] = (v/total) * 100\n",
    "            \n",
    "    return table_percentages\n",
    "\n",
    "def display_table(dataset, index):\n",
    "    table = freq_table(dataset, index)\n",
    "    table_display = []\n",
    "    for key in table:\n",
    "        key_val_as_tuple = (table[key], key)\n",
    "        table_display.append(key_val_as_tuple)\n",
    "\n",
    "    table_sorted = sorted(table_display, reverse = True)\n",
    "    for entry in table_sorted:\n",
    "        print(entry[1], ':', entry[0])"
   ]
  },
  {
   "cell_type": "code",
   "execution_count": 21,
   "id": "6d8264c8",
   "metadata": {},
   "outputs": [
    {
     "name": "stdout",
     "output_type": "stream",
     "text": [
      "Apple Prime Genre Frequency\n",
      "Games : 58.16263190564867\n",
      "Entertainment : 7.883302296710118\n",
      "Photo & Video : 4.9658597144630665\n",
      "Education : 3.662321539416512\n",
      "Social Networking : 3.2898820608317814\n",
      "Shopping : 2.60707635009311\n",
      "Utilities : 2.5139664804469275\n",
      "Sports : 2.1415270018621975\n",
      "Music : 2.0484171322160147\n",
      "Health & Fitness : 2.0173805090006205\n",
      "Productivity : 1.7380509000620732\n",
      "Lifestyle : 1.5828677839851024\n",
      "News : 1.3345747982619491\n",
      "Travel : 1.2414649286157666\n",
      "Finance : 1.1173184357541899\n",
      "Weather : 0.8690254500310366\n",
      "Food & Drink : 0.8069522036002483\n",
      "Reference : 0.5586592178770949\n",
      "Business : 0.5276225946617008\n",
      "Book : 0.4345127250155183\n",
      "Navigation : 0.186219739292365\n",
      "Medical : 0.186219739292365\n",
      "Catalogs : 0.12414649286157665\n",
      "\n",
      "Google Genres Frequency\n",
      "Tools : 8.449909747292418\n",
      "Entertainment : 6.069494584837545\n",
      "Education : 5.347472924187725\n",
      "Business : 4.591606498194946\n",
      "Productivity : 3.892148014440433\n",
      "Lifestyle : 3.892148014440433\n",
      "Finance : 3.7003610108303246\n",
      "Medical : 3.531137184115524\n",
      "Sports : 3.463447653429603\n",
      "Personalization : 3.3167870036101084\n",
      "Communication : 3.2378158844765346\n",
      "Action : 3.1024368231046933\n",
      "Health & Fitness : 3.0798736462093865\n",
      "Photography : 2.944494584837545\n",
      "News & Magazines : 2.7978339350180503\n",
      "Social : 2.6624548736462095\n",
      "Travel & Local : 2.3240072202166067\n",
      "Shopping : 2.2450361010830324\n",
      "Books & Reference : 2.1435018050541514\n",
      "Simulation : 2.0419675090252705\n",
      "Dating : 1.861462093862816\n",
      "Arcade : 1.8501805054151623\n",
      "Video Players & Editors : 1.7712093862815883\n",
      "Casual : 1.7599277978339352\n",
      "Maps & Navigation : 1.3989169675090252\n",
      "Food & Drink : 1.2409747292418771\n",
      "Puzzle : 1.128158844765343\n",
      "Racing : 0.9927797833935018\n",
      "Role Playing : 0.9363718411552346\n",
      "Libraries & Demo : 0.9363718411552346\n",
      "Auto & Vehicles : 0.9250902527075812\n",
      "Strategy : 0.9138086642599278\n",
      "House & Home : 0.8235559566787004\n",
      "Weather : 0.8009927797833934\n",
      "Events : 0.7107400722021661\n",
      "Adventure : 0.6768953068592057\n",
      "Comics : 0.6092057761732852\n",
      "Beauty : 0.5979241877256317\n",
      "Art & Design : 0.5979241877256317\n",
      "Parenting : 0.4963898916967509\n",
      "Card : 0.45126353790613716\n",
      "Casino : 0.42870036101083037\n",
      "Trivia : 0.41741877256317694\n",
      "Educational;Education : 0.39485559566787\n",
      "Board : 0.3835740072202166\n",
      "Educational : 0.3722924187725632\n",
      "Education;Education : 0.33844765342960287\n",
      "Word : 0.2594765342960289\n",
      "Casual;Pretend Play : 0.236913357400722\n",
      "Music : 0.2030685920577617\n",
      "Racing;Action & Adventure : 0.16922382671480143\n",
      "Puzzle;Brain Games : 0.16922382671480143\n",
      "Entertainment;Music & Video : 0.16922382671480143\n",
      "Casual;Brain Games : 0.13537906137184114\n",
      "Casual;Action & Adventure : 0.13537906137184114\n",
      "Arcade;Action & Adventure : 0.12409747292418773\n",
      "Action;Action & Adventure : 0.10153429602888085\n",
      "Educational;Pretend Play : 0.09025270758122744\n",
      "Simulation;Action & Adventure : 0.078971119133574\n",
      "Parenting;Education : 0.078971119133574\n",
      "Entertainment;Brain Games : 0.078971119133574\n",
      "Board;Brain Games : 0.078971119133574\n",
      "Parenting;Music & Video : 0.06768953068592057\n",
      "Educational;Brain Games : 0.06768953068592057\n",
      "Casual;Creativity : 0.06768953068592057\n",
      "Art & Design;Creativity : 0.06768953068592057\n",
      "Education;Pretend Play : 0.056407942238267145\n",
      "Role Playing;Pretend Play : 0.04512635379061372\n",
      "Education;Creativity : 0.04512635379061372\n",
      "Role Playing;Action & Adventure : 0.033844765342960284\n",
      "Puzzle;Action & Adventure : 0.033844765342960284\n",
      "Entertainment;Creativity : 0.033844765342960284\n",
      "Entertainment;Action & Adventure : 0.033844765342960284\n",
      "Educational;Creativity : 0.033844765342960284\n",
      "Educational;Action & Adventure : 0.033844765342960284\n",
      "Education;Music & Video : 0.033844765342960284\n",
      "Education;Brain Games : 0.033844765342960284\n",
      "Education;Action & Adventure : 0.033844765342960284\n",
      "Adventure;Action & Adventure : 0.033844765342960284\n",
      "Video Players & Editors;Music & Video : 0.02256317689530686\n",
      "Sports;Action & Adventure : 0.02256317689530686\n",
      "Simulation;Pretend Play : 0.02256317689530686\n",
      "Puzzle;Creativity : 0.02256317689530686\n",
      "Music;Music & Video : 0.02256317689530686\n",
      "Entertainment;Pretend Play : 0.02256317689530686\n",
      "Casual;Education : 0.02256317689530686\n",
      "Board;Action & Adventure : 0.02256317689530686\n",
      "Video Players & Editors;Creativity : 0.01128158844765343\n",
      "Trivia;Education : 0.01128158844765343\n",
      "Travel & Local;Action & Adventure : 0.01128158844765343\n",
      "Tools;Education : 0.01128158844765343\n",
      "Strategy;Education : 0.01128158844765343\n",
      "Strategy;Creativity : 0.01128158844765343\n",
      "Strategy;Action & Adventure : 0.01128158844765343\n",
      "Simulation;Education : 0.01128158844765343\n",
      "Role Playing;Brain Games : 0.01128158844765343\n",
      "Racing;Pretend Play : 0.01128158844765343\n",
      "Puzzle;Education : 0.01128158844765343\n",
      "Parenting;Brain Games : 0.01128158844765343\n",
      "Music & Audio;Music & Video : 0.01128158844765343\n",
      "Lifestyle;Pretend Play : 0.01128158844765343\n",
      "Lifestyle;Education : 0.01128158844765343\n",
      "Health & Fitness;Education : 0.01128158844765343\n",
      "Health & Fitness;Action & Adventure : 0.01128158844765343\n",
      "Entertainment;Education : 0.01128158844765343\n",
      "Communication;Creativity : 0.01128158844765343\n",
      "Comics;Creativity : 0.01128158844765343\n",
      "Casual;Music & Video : 0.01128158844765343\n",
      "Card;Action & Adventure : 0.01128158844765343\n",
      "Books & Reference;Education : 0.01128158844765343\n",
      "Art & Design;Pretend Play : 0.01128158844765343\n",
      "Art & Design;Action & Adventure : 0.01128158844765343\n",
      "Arcade;Pretend Play : 0.01128158844765343\n",
      "Adventure;Education : 0.01128158844765343\n",
      "\n",
      "Google Category Frequency\n",
      "FAMILY : 18.907942238267147\n",
      "GAME : 9.724729241877256\n",
      "TOOLS : 8.461191335740072\n",
      "BUSINESS : 4.591606498194946\n",
      "LIFESTYLE : 3.9034296028880866\n",
      "PRODUCTIVITY : 3.892148014440433\n",
      "FINANCE : 3.7003610108303246\n",
      "MEDICAL : 3.531137184115524\n",
      "SPORTS : 3.395758122743682\n",
      "PERSONALIZATION : 3.3167870036101084\n",
      "COMMUNICATION : 3.2378158844765346\n",
      "HEALTH_AND_FITNESS : 3.0798736462093865\n",
      "PHOTOGRAPHY : 2.944494584837545\n",
      "NEWS_AND_MAGAZINES : 2.7978339350180503\n",
      "SOCIAL : 2.6624548736462095\n",
      "TRAVEL_AND_LOCAL : 2.33528880866426\n",
      "SHOPPING : 2.2450361010830324\n",
      "BOOKS_AND_REFERENCE : 2.1435018050541514\n",
      "DATING : 1.861462093862816\n",
      "VIDEO_PLAYERS : 1.7937725631768955\n",
      "MAPS_AND_NAVIGATION : 1.3989169675090252\n",
      "FOOD_AND_DRINK : 1.2409747292418771\n",
      "EDUCATION : 1.1620036101083033\n",
      "ENTERTAINMENT : 0.9589350180505415\n",
      "LIBRARIES_AND_DEMO : 0.9363718411552346\n",
      "AUTO_AND_VEHICLES : 0.9250902527075812\n",
      "HOUSE_AND_HOME : 0.8235559566787004\n",
      "WEATHER : 0.8009927797833934\n",
      "EVENTS : 0.7107400722021661\n",
      "PARENTING : 0.6543321299638989\n",
      "ART_AND_DESIGN : 0.6430505415162455\n",
      "COMICS : 0.6204873646209386\n",
      "BEAUTY : 0.5979241877256317\n",
      "\n"
     ]
    }
   ],
   "source": [
    "print(\"Apple Prime Genre Frequency\")\n",
    "display_table(apple_apps, 11) \n",
    "print()\n",
    "print(\"Google Genres Frequency\")\n",
    "display_table(google_apps, 9) \n",
    "print()\n",
    "print(\"Google Category Frequency\")\n",
    "display_table(google_apps, 1) \n",
    "print()"
   ]
  },
  {
   "cell_type": "markdown",
   "id": "48bf9878",
   "metadata": {},
   "source": [
    "**Frequency Table Results**\n",
    "- For Apple, game genre seems to be most common\n",
    "- For Google, Practical and Fun apps seem to be most common"
   ]
  },
  {
   "cell_type": "markdown",
   "id": "9e898ad4",
   "metadata": {},
   "source": [
    "### Determine average number of installs for each app genre\n",
    "- Apple: `rating_count_tot` column will be used\n",
    "- Google: `Installs` column will be used\n",
    "- How:\n",
    "    - Isolate apps of each genre\n",
    "    - Get total user ratings for the apps of that genre\n",
    "    - Divide total user ratings by number of apps in that genre"
   ]
  },
  {
   "cell_type": "code",
   "execution_count": 22,
   "id": "08212fce",
   "metadata": {},
   "outputs": [
    {
     "name": "stdout",
     "output_type": "stream",
     "text": [
      "['U Launcher Lite – FREE Live Cool Themes, Hide Apps', 'ART_AND_DESIGN', '4.7', '87510', '8.7M', '5,000,000+', 'Free', '0', 'Everyone', 'Art & Design', 'August 1, 2018', '1.2.4', '4.0.3 and up']\n"
     ]
    }
   ],
   "source": [
    "print(google_apps[1])"
   ]
  },
  {
   "cell_type": "code",
   "execution_count": 25,
   "id": "c219195a",
   "metadata": {},
   "outputs": [
    {
     "name": "stdout",
     "output_type": "stream",
     "text": [
      "Social Networking - 71548.34905660378\n",
      "Photo & Video - 28441.54375\n",
      "Games - 22788.6696905016\n",
      "Music - 57326.530303030304\n",
      "Reference - 74942.11111111111\n",
      "Health & Fitness - 23298.015384615384\n",
      "Weather - 52279.892857142855\n",
      "Utilities - 18684.456790123455\n",
      "Travel - 28243.8\n",
      "Shopping - 26919.690476190477\n",
      "News - 21248.023255813954\n",
      "Navigation - 86090.33333333333\n",
      "Lifestyle - 16485.764705882353\n",
      "Entertainment - 14029.830708661417\n",
      "Food & Drink - 33333.92307692308\n",
      "Sports - 23008.898550724636\n",
      "Book - 39758.5\n",
      "Finance - 31467.944444444445\n",
      "Education - 7003.983050847458\n",
      "Productivity - 21028.410714285714\n",
      "Business - 7491.117647058823\n",
      "Catalogs - 4004.0\n",
      "Medical - 612.0\n"
     ]
    }
   ],
   "source": [
    "# Apple average number of installs per genre (prime_genre)\n",
    "apple_prime_genre_frequency = freq_table(apple_apps, 11) # Apple app genres and their frequencies (occurrences)\n",
    "# Looping over unique genres\n",
    "for genre in apple_prime_genre_frequency.keys():\n",
    "    apple_total_ratings = 0\n",
    "    apple_total_apps_per_genre = 0\n",
    "    for app in apple_apps:\n",
    "        app_genre = app[11]\n",
    "        if app_genre == genre:\n",
    "            ratings = float(app[5])\n",
    "            apple_total_ratings += ratings\n",
    "            apple_total_apps_per_genre += 1\n",
    "    print(genre + ' - ' + str(apple_total_ratings/apple_total_apps_per_genre)) \n"
   ]
  },
  {
   "cell_type": "markdown",
   "id": "d9326587",
   "metadata": {},
   "source": [
    "Here we see that navigation apps have highest number of reviews on average\n",
    "However, this is misleading as only a few popular apps skews the data, such as google maps and waze accounting for many reviews"
   ]
  },
  {
   "cell_type": "code",
   "execution_count": 26,
   "id": "00f4ed6e",
   "metadata": {},
   "outputs": [
    {
     "name": "stdout",
     "output_type": "stream",
     "text": [
      "Waze - GPS Navigation, Maps & Real-time Traffic : 345046\n",
      "Google Maps - Navigation & Transit : 154911\n",
      "Geocaching® : 12811\n",
      "CoPilot GPS – Car Navigation & Offline Maps : 3582\n",
      "ImmobilienScout24: Real Estate Search in Germany : 187\n",
      "Railway Route Search : 5\n"
     ]
    }
   ],
   "source": [
    "for app in apple_apps:\n",
    "    if app[11] == 'Navigation':\n",
    "        print(app[1], \":\", app[5]) # Prints name and number of ratings"
   ]
  },
  {
   "cell_type": "code",
   "execution_count": 28,
   "id": "38721a3e",
   "metadata": {},
   "outputs": [
    {
     "name": "stdout",
     "output_type": "stream",
     "text": [
      "1,000,000+ : 15.726534296028879\n",
      "100,000+ : 11.552346570397113\n",
      "10,000,000+ : 10.548285198555957\n",
      "10,000+ : 10.198555956678701\n",
      "1,000+ : 8.393501805054152\n",
      "100+ : 6.915613718411552\n",
      "5,000,000+ : 6.825361010830325\n",
      "500,000+ : 5.561823104693141\n",
      "50,000+ : 4.7721119133574\n",
      "5,000+ : 4.512635379061372\n",
      "10+ : 3.5424187725631766\n",
      "500+ : 3.2490974729241873\n",
      "50,000,000+ : 2.3014440433213\n",
      "100,000,000+ : 2.1322202166064983\n",
      "50+ : 1.917870036101083\n",
      "5+ : 0.78971119133574\n",
      "1+ : 0.5076714801444043\n",
      "500,000,000+ : 0.2707581227436823\n",
      "1,000,000,000+ : 0.22563176895306858\n",
      "0+ : 0.04512635379061372\n",
      "0 : 0.01128158844765343\n"
     ]
    }
   ],
   "source": [
    "# Google average number of installs per genre (prime_genre)\n",
    "display_table(google_apps, 5) # the Installs columns"
   ]
  },
  {
   "cell_type": "markdown",
   "id": "3ad2d562",
   "metadata": {},
   "source": [
    "One problem with this data is that is not precise. For instance, we don't know whether an app with 100,000+ installs has 100,000 installs, 200,000, or 350,000. However, we don't need very precise data for our purposes — we only want to get an idea which app genres attract the most users, and we don't need perfect precision with respect to the number of users.\n",
    "\n",
    "We're going to leave the numbers as they are, which means that we'll consider that an app with 100,000+ installs has 100,000 installs, and an app with 1,000,000+ installs has 1,000,000 installs, and so on.\n",
    "\n",
    "To perform computations, however, we'll need to convert each install number to float — this means that we need to remove the commas and the plus characters, otherwise the conversion will fail and raise an error. We'll do this directly in the loop below, where we also compute the average number of installs for each genre (category)"
   ]
  },
  {
   "cell_type": "code",
   "execution_count": 30,
   "id": "ec739300",
   "metadata": {},
   "outputs": [
    {
     "name": "stdout",
     "output_type": "stream",
     "text": [
      "ART_AND_DESIGN : 1986335.0877192982\n",
      "AUTO_AND_VEHICLES : 647317.8170731707\n",
      "BEAUTY : 513151.88679245283\n",
      "BOOKS_AND_REFERENCE : 8767811.894736841\n",
      "BUSINESS : 1712290.1474201474\n",
      "COMICS : 817657.2727272727\n",
      "COMMUNICATION : 38456119.167247385\n",
      "DATING : 854028.8303030303\n",
      "EDUCATION : 1833495.145631068\n",
      "ENTERTAINMENT : 11640705.88235294\n",
      "EVENTS : 253542.22222222222\n",
      "FINANCE : 1387692.475609756\n",
      "FOOD_AND_DRINK : 1924897.7363636363\n",
      "HEALTH_AND_FITNESS : 4188821.9853479853\n",
      "HOUSE_AND_HOME : 1331540.5616438356\n",
      "LIBRARIES_AND_DEMO : 638503.734939759\n",
      "LIFESTYLE : 1437816.2687861272\n",
      "GAME : 15588015.603248259\n",
      "FAMILY : 3695641.8198090694\n",
      "MEDICAL : 120550.61980830671\n",
      "SOCIAL : 23253652.127118643\n",
      "SHOPPING : 7036877.311557789\n",
      "PHOTOGRAPHY : 17840110.40229885\n",
      "SPORTS : 3638640.1428571427\n",
      "TRAVEL_AND_LOCAL : 13984077.710144928\n",
      "TOOLS : 10801391.298666667\n",
      "PERSONALIZATION : 5201482.6122448975\n",
      "PRODUCTIVITY : 16787331.344927534\n",
      "PARENTING : 542603.6206896552\n",
      "WEATHER : 5074486.197183099\n",
      "VIDEO_PLAYERS : 24727872.452830188\n",
      "NEWS_AND_MAGAZINES : 9549178.467741935\n",
      "MAPS_AND_NAVIGATION : 4056941.7741935486\n"
     ]
    }
   ],
   "source": [
    "categories_android = freq_table(google_apps, 1)\n",
    "\n",
    "for category in categories_android:\n",
    "    total = 0\n",
    "    len_category = 0\n",
    "    for app in google_apps:\n",
    "        category_app = app[1]\n",
    "        if category_app == category:            \n",
    "            n_installs = app[5]\n",
    "            n_installs = n_installs.replace(',', '')\n",
    "            n_installs = n_installs.replace('+', '')\n",
    "            total += float(n_installs)\n",
    "            len_category += 1\n",
    "    avg_n_installs = total / len_category\n",
    "    print(category, ':', avg_n_installs)"
   ]
  },
  {
   "cell_type": "markdown",
   "id": "904ab162",
   "metadata": {},
   "source": [
    "On average, communication apps have the most installs: 38,456,119. This number is heavily skewed up by a few apps that have over one billion installs (WhatsApp, Facebook Messenger, Skype, Google Chrome, Gmail, and Hangouts), and a few others with over 100 and 500 million installs:"
   ]
  },
  {
   "cell_type": "code",
   "execution_count": 32,
   "id": "720285bc",
   "metadata": {},
   "outputs": [
    {
     "name": "stdout",
     "output_type": "stream",
     "text": [
      "WhatsApp Messenger : 1,000,000,000+\n",
      "imo beta free calls and text : 100,000,000+\n",
      "Android Messages : 100,000,000+\n",
      "Google Duo - High Quality Video Calls : 500,000,000+\n",
      "Messenger – Text and Video Chat for Free : 1,000,000,000+\n",
      "imo free video calls and chat : 500,000,000+\n",
      "Skype - free IM & video calls : 1,000,000,000+\n",
      "Who : 100,000,000+\n",
      "GO SMS Pro - Messenger, Free Themes, Emoji : 100,000,000+\n",
      "LINE: Free Calls & Messages : 500,000,000+\n",
      "Google Chrome: Fast & Secure : 1,000,000,000+\n",
      "Firefox Browser fast & private : 100,000,000+\n",
      "UC Browser - Fast Download Private & Secure : 500,000,000+\n",
      "Gmail : 1,000,000,000+\n",
      "Hangouts : 1,000,000,000+\n",
      "Messenger Lite: Free Calls & Messages : 100,000,000+\n",
      "Kik : 100,000,000+\n",
      "KakaoTalk: Free Calls & Text : 100,000,000+\n",
      "Opera Mini - fast web browser : 100,000,000+\n",
      "Opera Browser: Fast and Secure : 100,000,000+\n",
      "Telegram : 100,000,000+\n",
      "Truecaller: Caller ID, SMS spam blocking & Dialer : 100,000,000+\n",
      "UC Browser Mini -Tiny Fast Private & Secure : 100,000,000+\n",
      "Viber Messenger : 500,000,000+\n",
      "WeChat : 100,000,000+\n",
      "Yahoo Mail – Stay Organized : 100,000,000+\n",
      "BBM - Free Calls & Messages : 100,000,000+\n"
     ]
    }
   ],
   "source": [
    "for app in google_apps:\n",
    "    if app[1] == 'COMMUNICATION' and (app[5] == '1,000,000,000+'\n",
    "                                      or app[5] == '500,000,000+'\n",
    "                                      or app[5] == '100,000,000+'):\n",
    "        print(app[0], ':', app[5])"
   ]
  },
  {
   "cell_type": "markdown",
   "id": "ae1a0e3a",
   "metadata": {},
   "source": [
    "If we removed all the communication apps that have over 100 million installs, the average would be reduced roughly ten times:"
   ]
  },
  {
   "cell_type": "code",
   "execution_count": 33,
   "id": "fb14eebb",
   "metadata": {},
   "outputs": [
    {
     "data": {
      "text/plain": [
       "3603485.3884615386"
      ]
     },
     "execution_count": 33,
     "metadata": {},
     "output_type": "execute_result"
    }
   ],
   "source": [
    "under_100_m = []\n",
    "\n",
    "for app in google_apps:\n",
    "    n_installs = app[5]\n",
    "    n_installs = n_installs.replace(',', '')\n",
    "    n_installs = n_installs.replace('+', '')\n",
    "    if (app[1] == 'COMMUNICATION') and (float(n_installs) < 100000000):\n",
    "        under_100_m.append(float(n_installs))\n",
    "        \n",
    "sum(under_100_m) / len(under_100_m)"
   ]
  },
  {
   "cell_type": "markdown",
   "id": "aad6fd4e",
   "metadata": {},
   "source": [
    "We see the same pattern for the video players category, which is the runner-up with 24,727,872 installs. The market is dominated by apps like Youtube, Google Play Movies & TV, or MX Player. The pattern is repeated for social apps (where we have giants like Facebook, Instagram, Google+, etc.), photography apps (Google Photos and other popular photo editors), or productivity apps (Microsoft Word, Dropbox, Google Calendar, Evernote, etc.).\n",
    "\n",
    "Again, the main concern is that these app genres might seem more popular than they really are. Moreover, these niches seem to be dominated by a few giants who are hard to compete against.\n",
    "\n",
    "The game genre seems pretty popular, but previously we found out this part of the market seems a bit saturated, so we'd like to come up with a different app recommendation if possible.\n",
    "\n",
    "The books and reference genre looks fairly popular as well, with an average number of installs of 8,767,811. It's interesting to explore this in more depth, since we found this genre has some potential to work well on the App Store, and our aim is to recommend an app genre that shows potential for being profitable on both the App Store and Google Play.\n",
    "\n",
    "Let's take a look at some of the apps from this genre and their number of installs:"
   ]
  },
  {
   "cell_type": "code",
   "execution_count": 34,
   "id": "23c27944",
   "metadata": {},
   "outputs": [
    {
     "name": "stdout",
     "output_type": "stream",
     "text": [
      "E-Book Read - Read Book for free : 50,000+\n",
      "Download free book with green book : 100,000+\n",
      "Wikipedia : 10,000,000+\n",
      "Cool Reader : 10,000,000+\n",
      "Free Panda Radio Music : 100,000+\n",
      "Book store : 1,000,000+\n",
      "FBReader: Favorite Book Reader : 10,000,000+\n",
      "English Grammar Complete Handbook : 500,000+\n",
      "Free Books - Spirit Fanfiction and Stories : 1,000,000+\n",
      "Google Play Books : 1,000,000,000+\n",
      "AlReader -any text book reader : 5,000,000+\n",
      "Offline English Dictionary : 100,000+\n",
      "Offline: English to Tagalog Dictionary : 500,000+\n",
      "FamilySearch Tree : 1,000,000+\n",
      "Cloud of Books : 1,000,000+\n",
      "Recipes of Prophetic Medicine for free : 500,000+\n",
      "ReadEra – free ebook reader : 1,000,000+\n",
      "Anonymous caller detection : 10,000+\n",
      "Ebook Reader : 5,000,000+\n",
      "Litnet - E-books : 100,000+\n",
      "Read books online : 5,000,000+\n",
      "English to Urdu Dictionary : 500,000+\n",
      "eBoox: book reader fb2 epub zip : 1,000,000+\n",
      "English Persian Dictionary : 500,000+\n",
      "Flybook : 500,000+\n",
      "All Maths Formulas : 1,000,000+\n",
      "Ancestry : 5,000,000+\n",
      "HTC Help : 10,000,000+\n",
      "English translation from Bengali : 100,000+\n",
      "Pdf Book Download - Read Pdf Book : 100,000+\n",
      "Free Book Reader : 100,000+\n",
      "eBoox new: Reader for fb2 epub zip books : 50,000+\n",
      "Only 30 days in English, the guideline is guaranteed : 500,000+\n",
      "Moon+ Reader : 10,000,000+\n",
      "SH-02J Owner's Manual (Android 8.0) : 50,000+\n",
      "English-Myanmar Dictionary : 1,000,000+\n",
      "Golden Dictionary (EN-AR) : 1,000,000+\n",
      "All Language Translator Free : 1,000,000+\n",
      "Azpen eReader : 500,000+\n",
      "URBANO V 02 instruction manual : 100,000+\n",
      "Bible : 100,000,000+\n",
      "C Programs and Reference : 50,000+\n",
      "C Offline Tutorial : 1,000+\n",
      "C Programs Handbook : 50,000+\n",
      "Amazon Kindle : 100,000,000+\n",
      "Aab e Hayat Full Novel : 100,000+\n",
      "Aldiko Book Reader : 10,000,000+\n",
      "Google I/O 2018 : 500,000+\n",
      "R Language Reference Guide : 10,000+\n",
      "Learn R Programming Full : 5,000+\n",
      "R Programing Offline Tutorial : 1,000+\n",
      "Guide for R Programming : 5+\n",
      "Learn R Programming : 10+\n",
      "R Quick Reference Big Data : 1,000+\n",
      "V Made : 100,000+\n",
      "Wattpad 📖 Free Books : 100,000,000+\n",
      "Dictionary - WordWeb : 5,000,000+\n",
      "Guide (for X-MEN) : 100,000+\n",
      "AC Air condition Troubleshoot,Repair,Maintenance : 5,000+\n",
      "AE Bulletins : 1,000+\n",
      "Ae Allah na Dai (Rasa) : 10,000+\n",
      "50000 Free eBooks & Free AudioBooks : 5,000,000+\n",
      "Ag PhD Field Guide : 10,000+\n",
      "Ag PhD Deficiencies : 10,000+\n",
      "Ag PhD Planting Population Calculator : 1,000+\n",
      "Ag PhD Soybean Diseases : 1,000+\n",
      "Fertilizer Removal By Crop : 50,000+\n",
      "A-J Media Vault : 50+\n",
      "Al-Quran (Free) : 10,000,000+\n",
      "Al Quran (Tafsir & by Word) : 500,000+\n",
      "Al Quran Indonesia : 10,000,000+\n",
      "Al'Quran Bahasa Indonesia : 10,000,000+\n",
      "Al Quran Al karim : 1,000,000+\n",
      "Al-Muhaffiz : 50,000+\n",
      "Al Quran : EAlim - Translations & MP3 Offline : 5,000,000+\n",
      "Al-Quran 30 Juz free copies : 500,000+\n",
      "Koran Read &MP3 30 Juz Offline : 1,000,000+\n",
      "Hafizi Quran 15 lines per page : 1,000,000+\n",
      "Quran for Android : 10,000,000+\n",
      "Surah Al-Waqiah : 100,000+\n",
      "Hisnul Al Muslim - Hisn Invocations & Adhkaar : 100,000+\n",
      "Satellite AR : 1,000,000+\n",
      "Audiobooks from Audible : 100,000,000+\n",
      "Kinot & Eichah for Tisha B'Av : 10,000+\n",
      "AW Tozer Devotionals - Daily : 5,000+\n",
      "Tozer Devotional -Series 1 : 1,000+\n",
      "The Pursuit of God : 1,000+\n",
      "AY Sing : 5,000+\n",
      "Ay Hasnain k Nana Milad Naat : 10,000+\n",
      "Ay Mohabbat Teri Khatir Novel : 10,000+\n",
      "Arizona Statutes, ARS (AZ Law) : 1,000+\n",
      "Oxford A-Z of English Usage : 1,000,000+\n",
      "BD Fishpedia : 1,000+\n",
      "BD All Sim Offer : 10,000+\n",
      "Youboox - Livres, BD et magazines : 500,000+\n",
      "B&H Kids AR : 10,000+\n",
      "B y H Niños ES : 5,000+\n",
      "Dictionary.com: Find Definitions for English Words : 10,000,000+\n",
      "English Dictionary - Offline : 10,000,000+\n",
      "Bible KJV : 5,000,000+\n",
      "Borneo Bible, BM Bible : 10,000+\n",
      "MOD Black for BM : 100+\n",
      "BM Box : 1,000+\n",
      "Anime Mod for BM : 100+\n",
      "NOOK: Read eBooks & Magazines : 10,000,000+\n",
      "NOOK Audiobooks : 500,000+\n",
      "NOOK App for NOOK Devices : 500,000+\n",
      "Browsery by Barnes & Noble : 5,000+\n",
      "bp e-store : 1,000+\n",
      "Brilliant Quotes: Life, Love, Family & Motivation : 1,000,000+\n",
      "BR Ambedkar Biography & Quotes : 10,000+\n",
      "BU Alsace : 100+\n",
      "Catholic La Bu Zo Kam : 500+\n",
      "Khrifa Hla Bu (Solfa) : 10+\n",
      "Kristian Hla Bu : 10,000+\n",
      "SA HLA BU : 1,000+\n",
      "Learn SAP BW : 500+\n",
      "Learn SAP BW on HANA : 500+\n",
      "CA Laws 2018 (California Laws and Codes) : 5,000+\n",
      "Bootable Methods(USB-CD-DVD) : 10,000+\n",
      "cloudLibrary : 100,000+\n",
      "SDA Collegiate Quarterly : 500+\n",
      "Sabbath School : 100,000+\n",
      "Cypress College Library : 100+\n",
      "Stats Royale for Clash Royale : 1,000,000+\n",
      "GATE 21 years CS Papers(2011-2018 Solved) : 50+\n",
      "Learn CT Scan Of Head : 5,000+\n",
      "Easy Cv maker 2018 : 10,000+\n",
      "How to Write CV : 100,000+\n",
      "CW Nuclear : 1,000+\n",
      "CY Spray nozzle : 10+\n",
      "BibleRead En Cy Zh Yue : 5+\n",
      "CZ-Help : 5+\n",
      "Modlitební knížka CZ : 500+\n",
      "Guide for DB Xenoverse : 10,000+\n",
      "Guide for DB Xenoverse 2 : 10,000+\n",
      "Guide for IMS DB : 10+\n",
      "DC HSEMA : 5,000+\n",
      "DC Public Library : 1,000+\n",
      "Painting Lulu DC Super Friends : 1,000+\n",
      "Dictionary : 10,000,000+\n",
      "Fix Error Google Playstore : 1,000+\n",
      "D. H. Lawrence Poems FREE : 1,000+\n",
      "Bilingual Dictionary Audio App : 5,000+\n",
      "DM Screen : 10,000+\n",
      "wikiHow: how to do anything : 1,000,000+\n",
      "Dr. Doug's Tips : 1,000+\n",
      "Bible du Semeur-BDS (French) : 50,000+\n",
      "La citadelle du musulman : 50,000+\n",
      "DV 2019 Entry Guide : 10,000+\n",
      "DV 2019 - EDV Photo & Form : 50,000+\n",
      "DV 2018 Winners Guide : 1,000+\n",
      "EB Annual Meetings : 1,000+\n",
      "EC - AP & Telangana : 5,000+\n",
      "TN Patta Citta & EC : 10,000+\n",
      "AP Stamps and Registration : 10,000+\n",
      "CompactiMa EC pH Calibration : 100+\n",
      "EGW Writings 2 : 100,000+\n",
      "EGW Writings : 1,000,000+\n",
      "Bible with EGW Comments : 100,000+\n",
      "My Little Pony AR Guide : 1,000,000+\n",
      "SDA Sabbath School Quarterly : 500,000+\n",
      "Duaa Ek Ibaadat : 5,000+\n",
      "Spanish English Translator : 10,000,000+\n",
      "Dictionary - Merriam-Webster : 10,000,000+\n",
      "JW Library : 10,000,000+\n",
      "Oxford Dictionary of English : Free : 10,000,000+\n",
      "English Hindi Dictionary : 10,000,000+\n",
      "English to Hindi Dictionary : 5,000,000+\n",
      "EP Research Service : 1,000+\n",
      "Hymnes et Louanges : 100,000+\n",
      "EU Charter : 1,000+\n",
      "EU Data Protection : 1,000+\n",
      "EU IP Codes : 100+\n",
      "EW PDF : 5+\n",
      "BakaReader EX : 100,000+\n",
      "EZ Quran : 50,000+\n",
      "FA Part 1 & 2 Past Papers Solved Free – Offline : 5,000+\n",
      "La Fe de Jesus : 1,000+\n",
      "La Fe de Jesús : 500+\n",
      "Le Fe de Jesus : 500+\n",
      "Florida - Pocket Brainbook : 1,000+\n",
      "Florida Statutes (FL Code) : 1,000+\n",
      "English To Shona Dictionary : 10,000+\n",
      "Greek Bible FP (Audio) : 1,000+\n",
      "Golden Dictionary (FR-AR) : 500,000+\n",
      "Fanfic-FR : 5,000+\n",
      "Bulgarian French Dictionary Fr : 10,000+\n",
      "Chemin (fr) : 1,000+\n",
      "The SCP Foundation DB fr nn5n : 1,000+\n"
     ]
    }
   ],
   "source": [
    "for app in google_apps:\n",
    "    if app[1] == 'BOOKS_AND_REFERENCE':\n",
    "        print(app[0], ':', app[5])"
   ]
  },
  {
   "cell_type": "markdown",
   "id": "1aad8897",
   "metadata": {},
   "source": [
    "The book and reference genre includes a variety of apps: software for processing and reading ebooks, various collections of libraries, dictionaries, tutorials on programming or languages, etc. It seems there's still a small number of extremely popular apps that skew the average:"
   ]
  },
  {
   "cell_type": "code",
   "execution_count": 36,
   "id": "7c10ff28",
   "metadata": {},
   "outputs": [
    {
     "name": "stdout",
     "output_type": "stream",
     "text": [
      "Google Play Books : 1,000,000,000+\n",
      "Bible : 100,000,000+\n",
      "Amazon Kindle : 100,000,000+\n",
      "Wattpad 📖 Free Books : 100,000,000+\n",
      "Audiobooks from Audible : 100,000,000+\n"
     ]
    }
   ],
   "source": [
    "for app in google_apps:\n",
    "    if app[1] == 'BOOKS_AND_REFERENCE' and (app[5] == '1,000,000,000+'\n",
    "                                            or app[5] == '500,000,000+'\n",
    "                                            or app[5] == '100,000,000+'):\n",
    "        print(app[0], ':', app[5])"
   ]
  },
  {
   "cell_type": "markdown",
   "id": "791e075b",
   "metadata": {},
   "source": [
    "However, it looks like there are only a few very popular apps, so this market still shows potential. Let's try to get some app ideas based on the kind of apps that are somewhere in the middle in terms of popularity (between 1,000,000 and 100,000,000 downloads):"
   ]
  },
  {
   "cell_type": "code",
   "execution_count": 37,
   "id": "f6393a68",
   "metadata": {},
   "outputs": [
    {
     "name": "stdout",
     "output_type": "stream",
     "text": [
      "Wikipedia : 10,000,000+\n",
      "Cool Reader : 10,000,000+\n",
      "Book store : 1,000,000+\n",
      "FBReader: Favorite Book Reader : 10,000,000+\n",
      "Free Books - Spirit Fanfiction and Stories : 1,000,000+\n",
      "AlReader -any text book reader : 5,000,000+\n",
      "FamilySearch Tree : 1,000,000+\n",
      "Cloud of Books : 1,000,000+\n",
      "ReadEra – free ebook reader : 1,000,000+\n",
      "Ebook Reader : 5,000,000+\n",
      "Read books online : 5,000,000+\n",
      "eBoox: book reader fb2 epub zip : 1,000,000+\n",
      "All Maths Formulas : 1,000,000+\n",
      "Ancestry : 5,000,000+\n",
      "HTC Help : 10,000,000+\n",
      "Moon+ Reader : 10,000,000+\n",
      "English-Myanmar Dictionary : 1,000,000+\n",
      "Golden Dictionary (EN-AR) : 1,000,000+\n",
      "All Language Translator Free : 1,000,000+\n",
      "Aldiko Book Reader : 10,000,000+\n",
      "Dictionary - WordWeb : 5,000,000+\n",
      "50000 Free eBooks & Free AudioBooks : 5,000,000+\n",
      "Al-Quran (Free) : 10,000,000+\n",
      "Al Quran Indonesia : 10,000,000+\n",
      "Al'Quran Bahasa Indonesia : 10,000,000+\n",
      "Al Quran Al karim : 1,000,000+\n",
      "Al Quran : EAlim - Translations & MP3 Offline : 5,000,000+\n",
      "Koran Read &MP3 30 Juz Offline : 1,000,000+\n",
      "Hafizi Quran 15 lines per page : 1,000,000+\n",
      "Quran for Android : 10,000,000+\n",
      "Satellite AR : 1,000,000+\n",
      "Oxford A-Z of English Usage : 1,000,000+\n",
      "Dictionary.com: Find Definitions for English Words : 10,000,000+\n",
      "English Dictionary - Offline : 10,000,000+\n",
      "Bible KJV : 5,000,000+\n",
      "NOOK: Read eBooks & Magazines : 10,000,000+\n",
      "Brilliant Quotes: Life, Love, Family & Motivation : 1,000,000+\n",
      "Stats Royale for Clash Royale : 1,000,000+\n",
      "Dictionary : 10,000,000+\n",
      "wikiHow: how to do anything : 1,000,000+\n",
      "EGW Writings : 1,000,000+\n",
      "My Little Pony AR Guide : 1,000,000+\n",
      "Spanish English Translator : 10,000,000+\n",
      "Dictionary - Merriam-Webster : 10,000,000+\n",
      "JW Library : 10,000,000+\n",
      "Oxford Dictionary of English : Free : 10,000,000+\n",
      "English Hindi Dictionary : 10,000,000+\n",
      "English to Hindi Dictionary : 5,000,000+\n"
     ]
    }
   ],
   "source": [
    "for app in google_apps:\n",
    "    if app[1] == 'BOOKS_AND_REFERENCE' and (app[5] == '1,000,000+'\n",
    "                                            or app[5] == '5,000,000+'\n",
    "                                            or app[5] == '10,000,000+'\n",
    "                                            or app[5] == '50,000,000+'):\n",
    "        print(app[0], ':', app[5])"
   ]
  },
  {
   "cell_type": "markdown",
   "id": "90880c47",
   "metadata": {},
   "source": [
    "This niche seems to be dominated by software for processing and reading ebooks, as well as various collections of libraries and dictionaries, so it's probably not a good idea to build similar apps since there'll be some significant competition.\n",
    "\n",
    "We also notice there are quite a few apps built around the book Quran, which suggests that building an app around a popular book can be profitable. It seems that taking a popular book (perhaps a more recent book) and turning it into an app could be profitable for both the Google Play and the App Store markets.\n",
    "\n",
    "However, it looks like the market is already full of libraries, so we need to add some special features besides the raw version of the book. This might include daily quotes from the book, an audio version of the book, quizzes on the book, a forum where people can discuss the book, etc."
   ]
  },
  {
   "cell_type": "markdown",
   "id": "e82569fd",
   "metadata": {},
   "source": [
    "## Conclusions\n",
    "In this project, we analyzed data about the App Store and Google Play mobile apps with the goal of recommending an app profile that can be profitable for both markets.\n",
    "\n",
    "We concluded that taking a popular book (perhaps a more recent book) and turning it into an app could be profitable for both the Google Play and the App Store markets. The markets are already full of libraries, so we need to add some special features besides the raw version of the book. This might include daily quotes from the book, an audio version of the book, quizzes on the book, a forum where people can discuss the book, etc."
   ]
  },
  {
   "cell_type": "code",
   "execution_count": null,
   "id": "44bdb672",
   "metadata": {},
   "outputs": [],
   "source": []
  }
 ],
 "metadata": {
  "kernelspec": {
   "display_name": "Python 3 (ipykernel)",
   "language": "python",
   "name": "python3"
  },
  "language_info": {
   "codemirror_mode": {
    "name": "ipython",
    "version": 3
   },
   "file_extension": ".py",
   "mimetype": "text/x-python",
   "name": "python",
   "nbconvert_exporter": "python",
   "pygments_lexer": "ipython3",
   "version": "3.11.5"
  }
 },
 "nbformat": 4,
 "nbformat_minor": 5
}
