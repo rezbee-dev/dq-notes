{
 "cells": [
  {
   "cell_type": "markdown",
   "id": "8a2b3ab6-585e-4fb5-b710-7a6628cda5e0",
   "metadata": {},
   "source": [
    "# Exploring Hacker News Posts\n",
    "\n",
    "## Learning Objectives\n",
    "- Working with strings\n",
    "- Working with OOP\n",
    "- Working with Dates and Times\n",
    "\n",
    "## Project Objective\n",
    "- Comparing \"Ask HN\" and \"Show HN\" type posts to determine the following:\n",
    "  - Which type of posts receive more comments on average?\n",
    "  - Do posts created at a certain time receive more comments on average?\n",
    "\n",
    "## Data\n",
    "1. id: the unique identifier from Hacker News for the post\n",
    "2. \n",
    "title: the title of the pos\n",
    "3. \r\n",
    "url: the URL that the posts links to, if the post has a U\n",
    "4. L\r\n",
    "num_points: the number of points the post acquired, calculated as the total number of upvotes minus the total number of downvo\n",
    "5. es\r\n",
    "num_comments: the number of comments on the \n",
    "6. ost\r\n",
    "author: the username of the person who submitted the\n",
    "7. post\r\n",
    "created_at: the date and time of the post's submission"
   ]
  },
  {
   "cell_type": "code",
   "execution_count": 2,
   "id": "daed5547-62f1-46d8-9a50-5bffc6abe6bc",
   "metadata": {},
   "outputs": [
    {
     "name": "stdout",
     "output_type": "stream",
     "text": [
      "['12224879', 'Interactive Dynamic Video', 'http://www.interactivedynamicvideo.com/', '386', '52', 'ne0phyte', '8/4/2016 11:52']\n",
      "['10975351', 'How to Use Open Source and Shut the Fuck Up at the Same Time', 'http://hueniverse.com/2016/01/26/how-to-use-open-source-and-shut-the-fuck-up-at-the-same-time/', '39', '10', 'josep2', '1/26/2016 19:30']\n",
      "['11964716', \"Florida DJs May Face Felony for April Fools' Water Joke\", 'http://www.thewire.com/entertainment/2013/04/florida-djs-april-fools-water-joke/63798/', '2', '1', 'vezycash', '6/23/2016 22:20']\n",
      "['11919867', 'Technology ventures: From Idea to Enterprise', 'https://www.amazon.com/Technology-Ventures-Enterprise-Thomas-Byers/dp/0073523429', '3', '1', 'hswarna', '6/17/2016 0:01']\n",
      "['10301696', 'Note by Note: The Making of Steinway L1037 (2007)', 'http://www.nytimes.com/2007/11/07/movies/07stein.html?_r=0', '8', '2', 'walterbell', '9/30/2015 4:12']\n"
     ]
    }
   ],
   "source": [
    "# Retrieving HN data\n",
    "\n",
    "import csv\n",
    "\n",
    "data = []\n",
    "with open(\"./data/hacker_news.csv\") as csv_file:\n",
    "    data = list(csv.reader(csv_file))\n",
    "\n",
    "hn_header = data[0]\n",
    "hn_data = data[1:]\n",
    "\n",
    "for row in hn_data[0:5]:\n",
    "    print(row)"
   ]
  },
  {
   "cell_type": "code",
   "execution_count": 3,
   "id": "702cb126-ad32-4b59-9b46-87f674419342",
   "metadata": {},
   "outputs": [
    {
     "name": "stdout",
     "output_type": "stream",
     "text": [
      "1744\n",
      "1162\n",
      "17194\n"
     ]
    }
   ],
   "source": [
    "# Separating post types\n",
    "\n",
    "ask_posts = []\n",
    "show_posts = []\n",
    "other_posts = []\n",
    "\n",
    "for row in hn_data:\n",
    "    title = row[1].lower()\n",
    "    if title.startswith(\"ask hn\"):\n",
    "        ask_posts.append(row)\n",
    "    elif title.startswith(\"show hn\"):\n",
    "        show_posts.append(row)\n",
    "    else:\n",
    "        other_posts.append(row)\n",
    "\n",
    "print(len(ask_posts))\n",
    "print(len(show_posts))\n",
    "print(len(other_posts))\n"
   ]
  },
  {
   "cell_type": "code",
   "execution_count": 4,
   "id": "4f9c14f6-cc8b-4f31-ae60-ec1576f6310a",
   "metadata": {},
   "outputs": [
    {
     "name": "stdout",
     "output_type": "stream",
     "text": [
      "['12296411', 'Ask HN: How to improve my personal website?', '', '2', '6', 'ahmedbaracat', '8/16/2016 9:55']\n",
      "['10610020', 'Ask HN: Am I the only one outraged by Twitter shutting down share counts?', '', '28', '29', 'tkfx', '11/22/2015 13:43']\n",
      "['11610310', 'Ask HN: Aby recent changes to CSS that broke mobile?', '', '1', '1', 'polskibus', '5/2/2016 10:14']\n",
      "['12210105', 'Ask HN: Looking for Employee #3 How do I do it?', '', '1', '3', 'sph130', '8/2/2016 14:20']\n",
      "['10394168', 'Ask HN: Someone offered to buy my browser extension from me. What now?', '', '28', '17', 'roykolak', '10/15/2015 16:38']\n",
      "\n",
      "['10627194', 'Show HN: Wio Link  ESP8266 Based Web of Things Hardware Development Platform', 'https://iot.seeed.cc', '26', '22', 'kfihihc', '11/25/2015 14:03']\n",
      "['10646440', 'Show HN: Something pointless I made', 'http://dn.ht/picklecat/', '747', '102', 'dhotson', '11/29/2015 22:46']\n",
      "['11590768', 'Show HN: Shanhu.io, a programming playground powered by e8vm', 'https://shanhu.io', '1', '1', 'h8liu', '4/28/2016 18:05']\n",
      "['12178806', 'Show HN: Webscope  Easy way for web developers to communicate with Clients', 'http://webscopeapp.com', '3', '3', 'fastbrick', '7/28/2016 7:11']\n",
      "['10872799', 'Show HN: GeoScreenshot  Easily test Geo-IP based web pages', 'https://www.geoscreenshot.com/', '1', '9', 'kpsychwave', '1/9/2016 20:45']\n"
     ]
    }
   ],
   "source": [
    "for row in ask_posts[0:5]:\n",
    "    print(row)\n",
    "\n",
    "print()\n",
    "\n",
    "for row in show_posts[0:5]:\n",
    "    print(row)"
   ]
  },
  {
   "cell_type": "code",
   "execution_count": 5,
   "id": "0a87f4ec-47db-4621-b03b-658b6bc19d0b",
   "metadata": {},
   "outputs": [
    {
     "name": "stdout",
     "output_type": "stream",
     "text": [
      "Avg number of comments per Ask posts: 14.04\n",
      "Avg number of comments per Show posts:10.32\n"
     ]
    }
   ],
   "source": [
    "# Retrieve and analyze number of comments in ask and show type posts\n",
    "\n",
    "# Ask posts\n",
    "total_ask_comments = 0\n",
    "for row in ask_posts:\n",
    "    num_comments = int(row[4])\n",
    "    total_ask_comments += num_comments\n",
    "\n",
    "avg_ask_comments = total_ask_comments/len(ask_posts)\n",
    "\n",
    "# Show posts\n",
    "total_show_comments = 0\n",
    "for row in show_posts:\n",
    "    num_comments = int(row[4])\n",
    "    total_show_comments += num_comments\n",
    "\n",
    "avg_show_comments = total_show_comments/len(show_posts)\n",
    "\n",
    "print(\"Avg number of comments per Ask posts: {num:.2f}\".format(num=avg_ask_comments))\n",
    "print(\"Avg number of comments per Show posts:{num:.2f}\".format(num=avg_show_comments))\n"
   ]
  },
  {
   "cell_type": "markdown",
   "id": "22a9e105-ba61-4fe4-a177-7136d8d3b05d",
   "metadata": {},
   "source": [
    "## Findings\n",
    "\n",
    "- Per the average number of comments per posts findings above, it seems that \"ask\" posts receive more comments on average"
   ]
  },
  {
   "cell_type": "code",
   "execution_count": 6,
   "id": "09ebbfac-fb17-4520-8a88-a6eddfc24d1f",
   "metadata": {},
   "outputs": [
    {
     "name": "stdout",
     "output_type": "stream",
     "text": [
      "Hour 9 - 45 posts\n",
      "Hour 13 - 85 posts\n",
      "Hour 10 - 59 posts\n",
      "Hour 14 - 107 posts\n",
      "Hour 16 - 108 posts\n",
      "Hour 9 - 251 comments\n",
      "Hour 13 - 1253 comments\n",
      "Hour 10 - 793 comments\n",
      "Hour 14 - 1416 comments\n",
      "Hour 16 - 1814 comments\n"
     ]
    }
   ],
   "source": [
    "# Calculating number of ask posts created in each hour of the day along with number of comments received\n",
    "from datetime import datetime as dt\n",
    "\n",
    "result_list = []\n",
    "for row in ask_posts:\n",
    "    created_at = row[6]\n",
    "    num_comments = int(row[4])\n",
    "    result_list.append([created_at, num_comments])\n",
    "\n",
    "counts_by_hour = {}\n",
    "comments_by_hour = {}\n",
    "\n",
    "for row in result_list:\n",
    "    date = dt.strptime(row[0], \"%m/%d/%Y %H:%M\")\n",
    "    if date.hour in counts_by_hour:\n",
    "        counts_by_hour[date.hour] += 1\n",
    "        comments_by_hour[date.hour] += row[1]\n",
    "    else:\n",
    "        counts_by_hour[date.hour] = 1\n",
    "        comments_by_hour[date.hour] = row[1]\n",
    "        \n",
    "for k,v in list(counts_by_hour.items())[0:5]:\n",
    "    print(\"Hour {h} - {c} posts\".format(h=k,c=v))\n",
    "\n",
    "for k,v in list(comments_by_hour.items())[0:5]:\n",
    "    print(\"Hour {h} - {c} comments\".format(h=k,c=v))"
   ]
  },
  {
   "cell_type": "code",
   "execution_count": 9,
   "id": "fb4e6fc3-4295-480e-9058-70ded5f525df",
   "metadata": {},
   "outputs": [
    {
     "name": "stdout",
     "output_type": "stream",
     "text": [
      "[9, 5.5777777777777775]\n",
      "[13, 14.741176470588234]\n",
      "[10, 13.440677966101696]\n",
      "[14, 13.233644859813085]\n",
      "[16, 16.796296296296298]\n",
      "[23, 7.985294117647059]\n",
      "[12, 9.41095890410959]\n",
      "[17, 11.46]\n",
      "[15, 38.5948275862069]\n",
      "[21, 16.009174311926607]\n",
      "[20, 21.525]\n",
      "[2, 23.810344827586206]\n",
      "[18, 13.20183486238532]\n",
      "[3, 7.796296296296297]\n",
      "[5, 10.08695652173913]\n",
      "[19, 10.8]\n",
      "[1, 11.383333333333333]\n",
      "[22, 6.746478873239437]\n",
      "[8, 10.25]\n",
      "[4, 7.170212765957447]\n",
      "[0, 8.127272727272727]\n",
      "[6, 9.022727272727273]\n",
      "[7, 7.852941176470588]\n",
      "[11, 11.051724137931034]\n"
     ]
    }
   ],
   "source": [
    "# Calculate Average number of comments per post for posts created during each hour of the day\n",
    "avg_by_hour = []\n",
    "\n",
    "for k,v in comments_by_hour.items():\n",
    "    avg = v/counts_by_hour[k]\n",
    "    avg_by_hour.append([k,avg])\n",
    "\n",
    "for avg in avg_by_hour:\n",
    "    print(avg)\n",
    "    "
   ]
  },
  {
   "cell_type": "code",
   "execution_count": 11,
   "id": "08b57c67-d66c-4198-aa69-b9707e7eb452",
   "metadata": {},
   "outputs": [
    {
     "name": "stdout",
     "output_type": "stream",
     "text": [
      "[5.5777777777777775, 9]\n",
      "[14.741176470588234, 13]\n",
      "[13.440677966101696, 10]\n",
      "[13.233644859813085, 14]\n",
      "[16.796296296296298, 16]\n",
      "[7.985294117647059, 23]\n",
      "[9.41095890410959, 12]\n",
      "[11.46, 17]\n",
      "[38.5948275862069, 15]\n",
      "[16.009174311926607, 21]\n",
      "[21.525, 20]\n",
      "[23.810344827586206, 2]\n",
      "[13.20183486238532, 18]\n",
      "[7.796296296296297, 3]\n",
      "[10.08695652173913, 5]\n",
      "[10.8, 19]\n",
      "[11.383333333333333, 1]\n",
      "[6.746478873239437, 22]\n",
      "[10.25, 8]\n",
      "[7.170212765957447, 4]\n",
      "[8.127272727272727, 0]\n",
      "[9.022727272727273, 6]\n",
      "[7.852941176470588, 7]\n",
      "[11.051724137931034, 11]\n"
     ]
    }
   ],
   "source": [
    "# Sort Avg Number of comments per post per hour and display highest 5 values\n",
    "swap_avg_by_hour = []\n",
    "\n",
    "for avg in avg_by_hour:\n",
    "    swap_avg_by_hour.append([avg[1],avg[0]])\n",
    "\n",
    "for avg in swap_avg_by_hour:\n",
    "    print(avg)"
   ]
  },
  {
   "cell_type": "code",
   "execution_count": 15,
   "id": "130cc64b-ecbc-4169-b631-9070a0694838",
   "metadata": {},
   "outputs": [
    {
     "name": "stdout",
     "output_type": "stream",
     "text": [
      "Top 5 Hours for Ask Posts Comments\n",
      "15:00 38.59 average comments per post\n",
      "02:00 23.81 average comments per post\n",
      "20:00 21.52 average comments per post\n",
      "16:00 16.80 average comments per post\n",
      "21:00 16.01 average comments per post\n"
     ]
    }
   ],
   "source": [
    "swap_avg_by_hour = sorted(swap_avg_by_hour, reverse=True)\n",
    "\n",
    "print(\"Top 5 Hours for Ask Posts Comments\")\n",
    "\n",
    "for avg in swap_avg_by_hour[0:5]:\n",
    "    print(\"{h:02d}:00 {c:.2f} average comments per post\".format(h=avg[1], c=avg[0]))"
   ]
  },
  {
   "cell_type": "code",
   "execution_count": null,
   "id": "25e08108-359a-4f44-9fde-270fce695930",
   "metadata": {},
   "outputs": [],
   "source": []
  }
 ],
 "metadata": {
  "kernelspec": {
   "display_name": "Python 3 (ipykernel)",
   "language": "python",
   "name": "python3"
  },
  "language_info": {
   "codemirror_mode": {
    "name": "ipython",
    "version": 3
   },
   "file_extension": ".py",
   "mimetype": "text/x-python",
   "name": "python",
   "nbconvert_exporter": "python",
   "pygments_lexer": "ipython3",
   "version": "3.11.5"
  }
 },
 "nbformat": 4,
 "nbformat_minor": 5
}
